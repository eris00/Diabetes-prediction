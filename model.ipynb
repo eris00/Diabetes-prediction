{
 "cells": [
  {
   "cell_type": "code",
   "execution_count": null,
   "metadata": {
    "collapsed": true
   },
   "outputs": [],
   "source": [
    "import pandas as pd\n",
    "from sklearn.tree import DecisionTreeClassifier\n",
    "from sklearn.tree import plot_tree\n",
    "from sklearn.preprocessing import LabelEncoder\n",
    "from sklearn.model_selection import train_test_split\n",
    "from imblearn.under_sampling import RandomUnderSampler\n",
    "from sklearn.metrics import roc_curve, auc\n",
    "from sklearn.metrics import accuracy_score, classification_report\n",
    "from sklearn.metrics import confusion_matrix\n",
    "import seaborn as sns\n",
    "import matplotlib.pyplot as plt\n",
    "from sklearn.metrics import precision_recall_curve"
   ]
  },
  {
   "cell_type": "code",
   "execution_count": null,
   "outputs": [],
   "source": [
    "# Učitavanje dataset-a\n",
    "data = pd.read_csv('dataset.csv')\n",
    "df = pd.DataFrame(data)"
   ],
   "metadata": {
    "collapsed": false
   }
  },
  {
   "cell_type": "code",
   "execution_count": null,
   "outputs": [],
   "source": [
    "# Handling null 'No info' data in the smoking_history feature\n",
    "most_common_value = df['smoking_history'].replace('No Info', pd.NA).mode().values[0]\n",
    "df['smoking_history'] = df['smoking_history'].replace('No Info', most_common_value)"
   ],
   "metadata": {
    "collapsed": false
   }
  },
  {
   "cell_type": "code",
   "execution_count": null,
   "outputs": [],
   "source": [
    "# age feature visualisation\n",
    "plt.hist(df['age'], bins=10, edgecolor='black')\n",
    "plt.xlabel('Age')\n",
    "plt.ylabel('Frequency')\n",
    "plt.title('Histogram of Age')\n",
    "plt.show()"
   ],
   "metadata": {
    "collapsed": false
   }
  },
  {
   "cell_type": "code",
   "execution_count": null,
   "outputs": [],
   "source": [
    "# gender feature visualisation\n",
    "polovi_counts = df['gender'].value_counts()\n",
    "plt.pie(polovi_counts, labels=polovi_counts.index, autopct='%1.1f%%')\n",
    "plt.legend(polovi_counts.index)\n",
    "plt.show()"
   ],
   "metadata": {
    "collapsed": false
   }
  },
  {
   "cell_type": "code",
   "execution_count": null,
   "outputs": [],
   "source": [
    "# heart_disease feature visualisation\n",
    "heart_disease_counts = df['heart_disease'].value_counts()\n",
    "\n",
    "heart_disease_counts.plot(kind='bar')\n",
    "\n",
    "plt.title('Broj osoba s srčanom bolešću')\n",
    "plt.xlabel('Nema srčanu bolest (0) / Ima srčanu bolest (1)')\n",
    "plt.ylabel('Broj osoba')\n",
    "\n",
    "plt.show()"
   ],
   "metadata": {
    "collapsed": false
   }
  },
  {
   "cell_type": "code",
   "execution_count": null,
   "outputs": [],
   "source": [
    "# smoking_history feature visualisation\n",
    "smoking_history_counts = df['smoking_history'].value_counts()\n",
    "\n",
    "smoking_history_counts.plot(kind='pie', autopct='%1.1f%%')\n",
    "\n",
    "plt.title('Smoking History')\n",
    "\n",
    "plt.legend(labels=smoking_history_counts.index)\n",
    "\n",
    "plt.show()"
   ],
   "metadata": {
    "collapsed": false
   }
  },
  {
   "cell_type": "code",
   "execution_count": null,
   "outputs": [],
   "source": [
    "# encoding categorical features\n",
    "label_encoder = LabelEncoder()\n",
    "\n",
    "# Encoding gender features\n",
    "df['gender'] = label_encoder.fit_transform(df['gender'])\n",
    "\n",
    "# Encoding smoking_history features\n",
    "smoking_order = ['never', 'former', 'not current', 'current', 'ever']\n",
    "label_encoder.fit(smoking_order)\n",
    "df['smoking_history'] = label_encoder.transform(df['smoking_history'])"
   ],
   "metadata": {
    "collapsed": false
   }
  },
  {
   "cell_type": "code",
   "execution_count": null,
   "outputs": [],
   "source": [
    "# Preparation variables\n",
    "X = df.drop('diabetes', axis=1)\n",
    "y = df['diabetes']\n",
    "\n",
    "undersampler = RandomUnderSampler(random_state=42)\n",
    "X_undersampled, y_undersampled = undersampler.fit_resample(X, y)\n",
    "\n",
    "X_train, X_test, y_train, y_test = train_test_split(X_undersampled, y_undersampled, test_size=0.25, random_state=37)"
   ],
   "metadata": {
    "collapsed": false
   }
  },
  {
   "cell_type": "code",
   "execution_count": null,
   "outputs": [],
   "source": [
    "# Tree construction\n",
    "model = DecisionTreeClassifier(max_depth=8, criterion=\"entropy\")\n",
    "model.fit(X_train, y_train)"
   ],
   "metadata": {
    "collapsed": false
   }
  },
  {
   "cell_type": "code",
   "execution_count": null,
   "outputs": [],
   "source": [
    "# Tree visualisation\n",
    "plt.figure(figsize=(20, 13))\n",
    "plot_tree(model, feature_names=X.columns, class_names=['0', '1'], filled=True)\n",
    "plt.show()"
   ],
   "metadata": {
    "collapsed": false
   }
  },
  {
   "cell_type": "code",
   "execution_count": null,
   "outputs": [],
   "source": [
    "# Test set predicion\n",
    "y_pred = model.predict(X_test)"
   ],
   "metadata": {
    "collapsed": false
   }
  },
  {
   "cell_type": "code",
   "execution_count": null,
   "outputs": [],
   "source": [
    "# Confusion Matrix\n",
    "cm = confusion_matrix(y_test, y_pred)\n",
    "sns.heatmap(cm, annot=True, fmt=\"d\", cmap=\"Greens\")\n",
    "\n",
    "plt.xlabel(\"Predicted\")\n",
    "plt.ylabel(\"True\")\n",
    "plt.title(\"Confusion Matrix\")\n",
    "\n",
    "plt.show()"
   ],
   "metadata": {
    "collapsed": false
   }
  },
  {
   "cell_type": "code",
   "execution_count": null,
   "outputs": [],
   "source": [
    "# Classification report\n",
    "report = classification_report(y_test, y_pred)\n",
    "print(\"Izvještaj klasifikacije:\\n\", report)"
   ],
   "metadata": {
    "collapsed": false
   }
  },
  {
   "cell_type": "code",
   "execution_count": null,
   "outputs": [],
   "source": [
    "# Precision-Recall Curve\n",
    "precision, recall, thresholds = precision_recall_curve(y_test, y_pred)\n",
    "plt.plot(recall, precision)\n",
    "plt.xlabel('Recall')\n",
    "plt.ylabel('Precision')\n",
    "plt.title('Precision-Recall Curve')\n",
    "plt.show()"
   ],
   "metadata": {
    "collapsed": false
   }
  },
  {
   "cell_type": "code",
   "execution_count": null,
   "outputs": [],
   "source": [
    "# ROC Curve\n",
    "fpr, tpr, _ = roc_curve(y_test, y_pred)\n",
    "roc_auc = auc(fpr, tpr)\n",
    "plt.plot(fpr, tpr)\n",
    "plt.xlabel('False Positive Rate')\n",
    "plt.ylabel('True Positive Rate')\n",
    "plt.title('Receiver Operating Characteristic (ROC) Curve')\n",
    "plt.show()"
   ],
   "metadata": {
    "collapsed": false
   }
  },
  {
   "cell_type": "code",
   "execution_count": null,
   "outputs": [],
   "source": [
    "# Accuracy\n",
    "accuracy = accuracy_score(y_test, y_pred)\n",
    "print(\"Tačnost predikcije: \", accuracy)"
   ],
   "metadata": {
    "collapsed": false
   }
  },
  {
   "cell_type": "code",
   "execution_count": null,
   "outputs": [],
   "source": [
    "# New data prediction\n",
    "new_data = {\n",
    "    'gender': [0], 'age': [82.0], 'hypertension': [1], 'heart_disease': [1], 'smoking_history': [2], 'bmi': [35.11], 'HbA1c_level': [6.7], 'blood_glucose_level': [78], 'diabetes': [0]\n",
    "}\n",
    "\n",
    "new_data_df = pd.DataFrame(new_data)\n",
    "X_new = new_data_df.drop(['diabetes'], axis=1)\n",
    "y_new_pred = model.predict(X_new)\n",
    "\n",
    "if y_new_pred[0] == 0:\n",
    "    print(\"Osoba neće imati dijabetes.\")\n",
    "else:\n",
    "    print(\"Osoba će imati dijabetes.\")"
   ],
   "metadata": {
    "collapsed": false
   }
  }
 ],
 "metadata": {
  "kernelspec": {
   "display_name": "Python 3",
   "language": "python",
   "name": "python3"
  },
  "language_info": {
   "codemirror_mode": {
    "name": "ipython",
    "version": 2
   },
   "file_extension": ".py",
   "mimetype": "text/x-python",
   "name": "python",
   "nbconvert_exporter": "python",
   "pygments_lexer": "ipython2",
   "version": "2.7.6"
  }
 },
 "nbformat": 4,
 "nbformat_minor": 0
}
